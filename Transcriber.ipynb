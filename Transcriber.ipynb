{
  "nbformat": 4,
  "nbformat_minor": 0,
  "metadata": {
    "colab": {
      "provenance": [],
      "collapsed_sections": []
    },
    "kernelspec": {
      "name": "python3",
      "display_name": "Python 3"
    },
    "language_info": {
      "name": "python"
    }
  },
  "cells": [
    {
      "cell_type": "code",
      "execution_count": 1,
      "metadata": {
        "colab": {
          "base_uri": "https://localhost:8080/"
        },
        "id": "qVhxctFWVw-L",
        "outputId": "82c1025a-1b06-42b3-e45e-72e6f325048b"
      },
      "outputs": [
        {
          "output_type": "stream",
          "name": "stdout",
          "text": [
            "Looking in indexes: https://pypi.org/simple, https://us-python.pkg.dev/colab-wheels/public/simple/\n",
            "Collecting SpeechRecognition\n",
            "  Downloading SpeechRecognition-3.8.1-py2.py3-none-any.whl (32.8 MB)\n",
            "\u001b[K     |████████████████████████████████| 32.8 MB 110 kB/s \n",
            "\u001b[?25hInstalling collected packages: SpeechRecognition\n",
            "Successfully installed SpeechRecognition-3.8.1\n"
          ]
        }
      ],
      "source": [
        "!pip install SpeechRecognition"
      ]
    },
    {
      "cell_type": "code",
      "source": [
        "#Importando a biblioteca\n",
        "import speech_recognition as sr"
      ],
      "metadata": {
        "id": "d3phBTwkV78U"
      },
      "execution_count": 2,
      "outputs": []
    },
    {
      "cell_type": "code",
      "source": [
        "#Instanciando e limitando o threshold\n",
        "recognizer = sr.Recognizer()\n",
        "recognizer.energy_threshold = 300"
      ],
      "metadata": {
        "id": "t78A_k8wWLqO"
      },
      "execution_count": 3,
      "outputs": []
    },
    {
      "cell_type": "code",
      "source": [
        "#Testando audio que foi feito upload\n",
        "audio = sr.AudioFile('record.wav')"
      ],
      "metadata": {
        "id": "fcLC80iwWWOd"
      },
      "execution_count": 13,
      "outputs": []
    },
    {
      "cell_type": "code",
      "source": [
        "#Visualizando tipo do áudio importado\n",
        "type(audio)"
      ],
      "metadata": {
        "colab": {
          "base_uri": "https://localhost:8080/"
        },
        "id": "oPca7uwfWycX",
        "outputId": "aac32325-8e43-471c-eebe-072f714d0beb"
      },
      "execution_count": 14,
      "outputs": [
        {
          "output_type": "execute_result",
          "data": {
            "text/plain": [
              "speech_recognition.AudioFile"
            ]
          },
          "metadata": {},
          "execution_count": 14
        }
      ]
    },
    {
      "cell_type": "code",
      "source": [
        "#Convertendo audio para o Data Type correto\n",
        "with audio as source:\n",
        "  audio = recognizer.record(source)"
      ],
      "metadata": {
        "id": "eNs7-K-GXBjH"
      },
      "execution_count": 15,
      "outputs": []
    },
    {
      "cell_type": "code",
      "source": [
        "#Visualizando tipo do áudio importado novamente\n",
        "\n",
        "type(audio)"
      ],
      "metadata": {
        "colab": {
          "base_uri": "https://localhost:8080/"
        },
        "id": "QUrr7EP-XOF_",
        "outputId": "b4518fe7-da4b-4c86-e579-ecf9cf711c82"
      },
      "execution_count": 16,
      "outputs": [
        {
          "output_type": "execute_result",
          "data": {
            "text/plain": [
              "speech_recognition.AudioData"
            ]
          },
          "metadata": {},
          "execution_count": 16
        }
      ]
    },
    {
      "cell_type": "code",
      "source": [
        "#Transcrevendo áudio importado\n",
        "recognizer.recognize_google(audio_data=audio, language=\"pt-BR\")"
      ],
      "metadata": {
        "colab": {
          "base_uri": "https://localhost:8080/",
          "height": 35
        },
        "id": "H5qR1ZUUXtLe",
        "outputId": "1217683d-1ca4-4b5a-df4b-366671e7beed"
      },
      "execution_count": 17,
      "outputs": [
        {
          "output_type": "execute_result",
          "data": {
            "text/plain": [
              "'teste um dois três teste'"
            ],
            "application/vnd.google.colaboratory.intrinsic+json": {
              "type": "string"
            }
          },
          "metadata": {},
          "execution_count": 17
        }
      ]
    }
  ]
}
